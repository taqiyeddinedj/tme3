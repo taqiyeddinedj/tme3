{
 "cells": [
  {
   "cell_type": "markdown",
   "metadata": {},
   "source": [
    "This work is by DJOUANI Taqiyeddine and AMIR AIT Habib\n",
    "\n",
    "\n",
    "<span style=\"color: yellow; font-style: italic;\">CHATGPT Usage is highighted in YELLOW</span>\n",
    "\n",
    "Double click on me to use this below:\n",
    "\n",
    "<span style=\"color: yellow; font-style: italic;\"></span>"
   ]
  },
  {
   "cell_type": "markdown",
   "metadata": {},
   "source": [
    "### <span style=\"color: #1A7BCA\">Excercise 1</span>"
   ]
  },
  {
   "cell_type": "markdown",
   "metadata": {},
   "source": [
    "**Question 1.1**"
   ]
  },
  {
   "cell_type": "markdown",
   "metadata": {},
   "source": [
    "Hi, like always we start by importing our libraries.\n",
    "\n",
    "Note: Not all libraries will be imported in this code section"
   ]
  },
  {
   "cell_type": "code",
   "execution_count": 15,
   "metadata": {},
   "outputs": [],
   "source": [
    "import math"
   ]
  },
  {
   "cell_type": "code",
   "execution_count": 10,
   "metadata": {},
   "outputs": [],
   "source": [
    "peers = [1, 8, 14, 21, 32, 38, 42, 48, 51, 56]\n",
    "Nmax = 64 "
   ]
  },
  {
   "cell_type": "markdown",
   "metadata": {},
   "source": [
    "Here’s the deal with the successor function: it finds the smallest peer that’s larger than a given key. This is straightforward enough when the key is somewhere in the middle of the range, but the tricky part is handling wrap-around when the key is larger than all the peers. For instance, if my key is 90 and the peers are [10, 30, 70], the successor would wrap around and give me 10\n",
    "\n",
    "So, how are we going to do it ?\n",
    "\n",
    "1. **Sort the peers**: sorting the list makes it much easier to find the next larger peer.\n",
    "\n",
    "2. **Search for the successor**: I loop through the sorted list, and as soon as I find a peer larger than my key, I return it.\n",
    "\n",
    "3. **Handle the wrap-around**: If no peer is larger than the key, I return the smallest peer, which is the first element in the sorted list."
   ]
  },
  {
   "cell_type": "code",
   "execution_count": 2,
   "metadata": {},
   "outputs": [],
   "source": [
    "def successor(key, peers=peers):\n",
    "    sorted_peers = sorted(peers) # We need to ensure we are checking in order\n",
    "\n",
    "    for peer in sorted_peers:\n",
    "        if peer > key:\n",
    "            return peer\n",
    "    return sorted_peers[0] # We are returing 1, we wrap around to the smallest peer (first in the sorted list)"
   ]
  },
  {
   "cell_type": "markdown",
   "metadata": {},
   "source": [
    "The predecessor function flips this logic. Instead of finding the next larger peer"
   ]
  },
  {
   "cell_type": "code",
   "execution_count": 5,
   "metadata": {},
   "outputs": [],
   "source": [
    "def predecessor(key, peers=peers):\n",
    "    sorted_peers = sorted(peers)\n",
    "    \n",
    "    if key <= sorted_peers[0]:\n",
    "        return sorted_peers[-1] # We return to the largest peer (It's circle don't forget that)\n",
    "                                # In case the peer is 1 or anything smaller than that, we should go to the peer before 1 ( whihc is 56)\n",
    "    \n",
    "    for i in range(len(sorted_peers)):\n",
    "        if sorted_peers[i] >= key:\n",
    "            return sorted_peers[i-1]"
   ]
  },
  {
   "cell_type": "code",
   "execution_count": 7,
   "metadata": {},
   "outputs": [
    {
     "name": "stdout",
     "output_type": "stream",
     "text": [
      "The successor of the key 30 is the peer 32.\n",
      "The successor of the key 42 is the peer 48.\n",
      "The successor of the key 60 is the peer 1.\n"
     ]
    }
   ],
   "source": [
    "print('\\n'.join(f\"The successor of the key {p} is the peer {successor(p)}.\" for p in [30, 42, 60]))"
   ]
  },
  {
   "cell_type": "code",
   "execution_count": 8,
   "metadata": {},
   "outputs": [
    {
     "name": "stdout",
     "output_type": "stream",
     "text": [
      "The predecessor of the key 37 is the peer 32.\n",
      "The predecessor of the key 1 is the peer 56.\n"
     ]
    }
   ],
   "source": [
    "print('\\n'.join(f\"The predecessor of the key {p} is the peer {predecessor(p)}.\" for p in [37, 1]))"
   ]
  },
  {
   "cell_type": "markdown",
   "metadata": {},
   "source": [
    "**Question 1.2**"
   ]
  },
  {
   "cell_type": "markdown",
   "metadata": {},
   "source": [
    "**Building the Distributed Hash Table**"
   ]
  },
  {
   "cell_type": "markdown",
   "metadata": {},
   "source": [
    "Now that the ring structure is set up, the next step is to create the DHT itself.\n",
    "\n",
    "So each peer gets:\n",
    "Its successor, its predecessor and its finger table\n",
    "\n",
    "For each peer, We compute the finger table entries using the formula (peer_id + 2^i) % Nmax, where ``i`` is the position in the finger table. The result is passed to the successor function to map it to the corresponding peer.\n",
    "\n"
   ]
  },
  {
   "cell_type": "code",
   "execution_count": 13,
   "metadata": {},
   "outputs": [],
   "source": [
    "def make_dht(peers=peers):\n",
    "    dht_dict = {}\n",
    "    m = int(math.log2(Nmax)) # m : is the number of bits to write the keyspace (64)\n",
    "\n",
    "    for peer in peers:\n",
    "        finger_table = []\n",
    "\n",
    "        for i in range(m):\n",
    "            value = (peer + 2**i) % Nmax\n",
    "            finger_entry = successor(value)\n",
    "\n",
    "            if finger_entry not in finger_table:\n",
    "                finger_table.append(finger_entry)\n",
    "\n",
    "        dht_dict[peer] = {\n",
    "            'key': peer,\n",
    "            'succ': successor(peer),\n",
    "            'pred': predecessor(peer),\n",
    "            'finger': finger_table\n",
    "        }\n",
    "    return dht_dict"
   ]
  },
  {
   "cell_type": "code",
   "execution_count": 16,
   "metadata": {},
   "outputs": [
    {
     "name": "stdout",
     "output_type": "stream",
     "text": [
      "{1: {'key': 1, 'succ': 8, 'pred': 56, 'finger': [8, 14, 21, 38]}, 8: {'key': 8, 'succ': 14, 'pred': 1, 'finger': [14, 21, 32, 42]}, 14: {'key': 14, 'succ': 21, 'pred': 8, 'finger': [21, 32, 48]}, 21: {'key': 21, 'succ': 32, 'pred': 14, 'finger': [32, 38, 56]}, 32: {'key': 32, 'succ': 38, 'pred': 21, 'finger': [38, 42, 51, 1]}, 38: {'key': 38, 'succ': 42, 'pred': 32, 'finger': [42, 48, 56, 8]}, 42: {'key': 42, 'succ': 48, 'pred': 38, 'finger': [48, 51, 1, 14]}, 48: {'key': 48, 'succ': 51, 'pred': 42, 'finger': [51, 56, 1, 21]}, 51: {'key': 51, 'succ': 56, 'pred': 48, 'finger': [56, 1, 8, 21]}, 56: {'key': 56, 'succ': 1, 'pred': 51, 'finger': [1, 14, 32]}}\n"
     ]
    }
   ],
   "source": [
    "dht = make_dht(peers)\n",
    "print({peer: {'key': peer, 'succ': info['succ'], 'pred': info['pred'], 'finger': info['finger']} for peer, info in dht.items()})"
   ]
  },
  {
   "cell_type": "markdown",
   "metadata": {},
   "source": [
    "### <span style=\"color: #1A7BCA\">Excercise 2</span>"
   ]
  },
  {
   "cell_type": "markdown",
   "metadata": {},
   "source": [
    "**Question 2.1**"
   ]
  },
  {
   "cell_type": "markdown",
   "metadata": {},
   "source": [
    "The if-else statement handles whether the interval between pred and key is continuous or wraps around.\n",
    "\n",
    "1. Case1: If the predecessor's key is smaller than the current peer's key, the range is straightforward. The function checks if the given key falls within this continuous range.\n",
    "\n",
    "2. Case2: If the predecessor's key is larger than the current peer's key, the range wraps around the end of the keyspace. In this case, the key is valid if it’s either:\n",
    "\n",
    "    * Greater than or equal to the predecessor’s key (part of the end of the range),\n",
    "    * Or smaller than the current peer's key (part of the start of the range)."
   ]
  },
  {
   "cell_type": "code",
   "execution_count": 17,
   "metadata": {},
   "outputs": [],
   "source": [
    "def isincharge(dht_i, key):\n",
    "    # It is important to understand this:\n",
    "    # A peer is responsible for a key 'K' if:\n",
    "    # The key K lies in the interval between the predecessor of p and P itself\n",
    "    # We can express this as:\n",
    "    # if predecessor(p) < K <= P, then P is responsible for K.\n",
    "\n",
    "    current_key = dht_i['key']      #38\n",
    "    predecessor_key = dht_i['pred'] # from one to 64\n",
    "\n",
    "    if predecessor_key < current_key:\n",
    "        return predecessor_key <= key < current_key  # return true, if the valuated condition is correct else return false\n",
    "    else:\n",
    "        return key >= predecessor_key or key < current_key"
   ]
  },
  {
   "cell_type": "code",
   "execution_count": 18,
   "metadata": {},
   "outputs": [
    {
     "name": "stdout",
     "output_type": "stream",
     "text": [
      "True\n",
      "False\n",
      "[32, 33, 34, 35, 36, 37]\n"
     ]
    }
   ],
   "source": [
    "i = 1; k = 56\n",
    "value = isincharge(dht[i], k)\n",
    "print(value)\n",
    "\n",
    "k = 55\n",
    "value = isincharge(dht[i], k)\n",
    "print(value)\n",
    "i = 38\n",
    "responsible_keys = [k for k in range(Nmax) if isincharge(dht[i], k)]\n",
    "print(responsible_keys)"
   ]
  },
  {
   "cell_type": "markdown",
   "metadata": {},
   "source": [
    "**Question 2.2**"
   ]
  },
  {
   "cell_type": "markdown",
   "metadata": {},
   "source": [
    "I’ll admit, I got stuck on this for a while. Initially, my logic broke for edge cases like when the key was equal to the predecessor. I couldn’t figure out why some keys were being skipped until I realized I needed to split the range into two parts for wrap-around cases. \n",
    "\n",
    "<span style=\"color: yellow; font-style: italic;\">I asked ChatGPT about handling these kinds of circular ranges, and it suggested breaking the logic into clear subcases instead of trying to cram everything into one if statement. That tip saved me a lot of headaches!</span>\n",
    "\n",
    "Another Thing: **Misplaced Recursive Call**\n",
    "\n",
    "Initially, I structured the lookup function to call itself recursively when the key wasn't found on the current peer. Here’s the logic I started with:\n",
    "\n",
    "1. Responsibility Check:\n",
    "First, the function checks whether the current peer is responsible for the key using isincharge. If yes, it’s simple—we return the peer.\n",
    "\n",
    "2. Find the Closest Peer:\n",
    "If not, the function consults the finger table to locate the closest peer that might have the key. This peer is called closest_peer.\n",
    "\n",
    "3. Recursive Call:\n",
    "I thought, “Great! Let’s just hand over the work to closest_peer by calling lookup(closest_peer, key, dht).”\n",
    "\n",
    "Here’s where the disaster struck. Instead of progressing the search efficiently, I ended up creating a feedback loop. Every recursive call would circle back, eventually returning to the same peer, and the process would repeat indefinitely. The program hung, and I sat there staring at my screen, utterly confused."
   ]
  },
  {
   "cell_type": "markdown",
   "metadata": {},
   "source": [
    "**The Fix: Using the Successor**  \n",
    "<span style=\"color: yellow; font-style: italic;\">CHATGPT gave me an idea about something else but it inspired me to do it this way</span>\n",
    "\n",
    "The solution was simpler than I expected:\n",
    "\n",
    "If the closest peer isn’t the key’s successor, I should pass control to the successor directly.\n",
    "This ensures that every step progresses forward in the ring, breaking the circular dependency caused by incorrect finger table traversal."
   ]
  },
  {
   "cell_type": "code",
   "execution_count": 19,
   "metadata": {},
   "outputs": [],
   "source": [
    "def lookup(i, key, dht=dht):\n",
    "    current_peer = dht[i]\n",
    "    peer_key = current_peer['key']\n",
    "    \n",
    "    # To build a recursion we need a base case\n",
    "    # this is where the loop should end, otherwise we end up with infinite loop\n",
    "    #if pred_key < key <= peer_key or (pred_key > peer_key and (key > pred_key or key <= peer_key)):\n",
    "    if isincharge(dht[i], key):\n",
    "        return [i] # Why would i add '[]', because otherwise you will sum up numbers (look in the 3rd return)\n",
    "    \n",
    "    successor = current_peer['succ']\n",
    "    predecessor = current_peer['pred']\n",
    "    # Added after exo 3, to handle the unique situation where dht contains only one peer responsible for everything\n",
    "    if successor == peer_key and predecessor == peer_key:\n",
    "        return [i]\n",
    "    \n",
    "    finger_table = current_peer['finger']\n",
    "    # Case 2: Use the finger table to find the closest peer\n",
    "    for finger in reversed(finger_table): # the reversed function is very important to our search\n",
    "                                            # if we dont reverse the order = > This could lead to inefficient routing with unnecessary intermediate hops.\n",
    "                                            # I noticed when i didnt use it that the path was long and it is not prioritizing\n",
    "                                            # the largest valid finger \n",
    "        if finger > peer_key and finger <= key:\n",
    "            return [i] + lookup(finger, key, dht)\n",
    "    \n",
    "    # If no finger is valid, move to the successor\n",
    "    return [i] + lookup(successor, key, dht)"
   ]
  },
  {
   "cell_type": "code",
   "execution_count": 20,
   "metadata": {},
   "outputs": [
    {
     "name": "stdout",
     "output_type": "stream",
     "text": [
      "[56, 1, 8]\n"
     ]
    }
   ],
   "source": [
    "result = lookup(56, 2, dht)\n",
    "print(result)"
   ]
  },
  {
   "cell_type": "code",
   "execution_count": 21,
   "metadata": {},
   "outputs": [
    {
     "name": "stdout",
     "output_type": "stream",
     "text": [
      "[1, 38, 48, 51, 56]\n"
     ]
    }
   ],
   "source": [
    "result = lookup(1, 52, dht)\n",
    "print(result)"
   ]
  }
 ],
 "metadata": {
  "kernelspec": {
   "display_name": "Python 3",
   "language": "python",
   "name": "python3"
  },
  "language_info": {
   "codemirror_mode": {
    "name": "ipython",
    "version": 3
   },
   "file_extension": ".py",
   "mimetype": "text/x-python",
   "name": "python",
   "nbconvert_exporter": "python",
   "pygments_lexer": "ipython3",
   "version": "3.8.10"
  }
 },
 "nbformat": 4,
 "nbformat_minor": 2
}
